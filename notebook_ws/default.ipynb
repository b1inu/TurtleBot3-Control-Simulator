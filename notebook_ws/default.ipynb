{
 "cells": [
  {
   "cell_type": "markdown",
   "metadata": {},
   "source": [
    "<div class=\"jumbotron\" style=\"background:WhiteSmoke\">\n",
    "  <br>\n",
    "    <hr style=\"text-align:center\">\n",
    "      <h1 class=\"title\" style=\"text-align:center;color:RoyalBlue\">Python Basics for Robotics</h1>\n",
    "      <h2 class=\"subtitle\" style=\"text-align:center;color:Black\">Course Project</h2>\n",
    "    <hr style=\"text-align:center\">\n",
    "  <br>\n",
    "</div>"
   ]
  },
  {
   "cell_type": "markdown",
   "metadata": {},
   "source": [
    "<center><img src=\"images/python_basics_logo.png\" width=\"500\"/></center>"
   ]
  },
  {
   "cell_type": "markdown",
   "metadata": {},
   "source": [
    "<div class=\"separator-primary\" style=\"height:1.6em;width:100%;background:LightGrey\">\n",
    "  <p class=\"separatortitle\" style=\"text-align:center;color:Black\"><b>- Summary -</b></p>\n",
    "</div>"
   ]
  },
  {
   "cell_type": "markdown",
   "metadata": {},
   "source": [
    "**In this rosject, you will apply all that you have learned from the *Python for Robotics* course onto a real robot.**\n",
    "\n",
    "- You will practice on a simulation and try your program on a real robot **TurtleBot3 Burger**.\n",
    "- You will launch and run the simulation in this rosject.\n",
    "- You will remotely connect to the real robot that is live and running in **Barcelona, Spain**, to test your program from this rosject itself!"
   ]
  },
  {
   "cell_type": "markdown",
   "metadata": {},
   "source": [
    "<center><img src=\"images/sim_and_real_lab.png\" width=\"750\"/></center>"
   ]
  },
  {
   "cell_type": "markdown",
   "metadata": {},
   "source": [
    "<div class=\"separator-primary\" style=\"height:1.6em;width:100%;background:LightGrey\">\n",
    "  <p class=\"separatortitle\" style=\"text-align:center;color:Black\"><b>- End of Summary -</b></p>\n",
    "</div>"
   ]
  },
  {
   "cell_type": "markdown",
   "metadata": {},
   "source": [
    "<div class=\"section\" style=\"height:1.8em;background:WhiteSmoke\">\n",
    "  <h2 class=\"section-title\" style=\"text-align:center\">\n",
    "    <span class=\"section-title-secondary\" style=\"text-align:center;color:Black\">The Rosject Environment</span>\n",
    "  </h2>\n",
    "</div>"
   ]
  },
  {
   "cell_type": "markdown",
   "metadata": {},
   "source": [
    "If this is your first time on a rosject environment, then follow through this section to get the hang of it. Otherwise, you can take a quick glimpse or skip this section of this rosject.\n",
    "\n",
    "Rosjects are similar to real development environment for **ROS** robots:\n",
    "\n",
    "- You will need to start the robot simulation yourself\n",
    "- You will need to decide when to open a Linux terminal\n",
    "- You will need to decide when to connect to the real robot\n",
    "- You will need to decide when to open and work with the IDE\n",
    "\n",
    "This is actually how the **ROS** developers work every day."
   ]
  },
  {
   "cell_type": "markdown",
   "metadata": {},
   "source": [
    "### How to launch a terminal.\n",
    "\n",
    "To open a terminal, use the following icon on the bottom bar.\n",
    "\n",
    "<center><img src=\"images/icon_web_terminal.png\" width=\"50\"/></center>\n",
    "\n",
    "Terminals are where you will do most of the work: looking for topics, running commands and checking nodes are just a few things. It is the main interface with the Linux system of the robot."
   ]
  },
  {
   "cell_type": "markdown",
   "metadata": {},
   "source": [
    "### How to launch the IDE\n",
    "\n",
    "To open the IDE, use the following icon on the bottom bar.\n",
    "\n",
    "<center><img src=\"images/icon_code_editor.png\" width=\"50\"/></center>\n",
    "\n",
    "This is the code editor. Very similar to Visual Studio Code, but not exactly the same. You will write your programs here, and you can also see the folder organization of the rosject. It is worth taking a minute here to identify the most important workspaces where you will be working and the ones you don't need to pay attention:\n",
    "\n",
    "- ***`ros2_ws`***: The main workspace. **All of your work will be in here**, inside the ***`src`*** directory.\n",
    "- ***`simulation_ws`***: The workspace where all of the codes related to the simulation are present. **You do not need to work in here.**\n",
    "- ***`notebook_ws`***: The workspace where the notebook and associated images are stored. **You do not need to work in here.**"
   ]
  },
  {
   "cell_type": "markdown",
   "metadata": {},
   "source": [
    "### How to open the instructions notebook\n",
    "\n",
    "To open the notebook, use the following icon on the bottom bar.\n",
    "\n",
    "<center><img src=\"images/icon_jupyter_notebook.png\" width=\"50\"/></center>\n",
    "\n",
    "The instructions notebook is what you are reading right now. Contains the instructions of what you need to do to complete the project."
   ]
  },
  {
   "cell_type": "markdown",
   "metadata": {},
   "source": [
    "### How to launch a simulation\n",
    "\n",
    "As in every professional robot programming system, you will need to decide when to launch the simulation. \n",
    "\n",
    "**The simulation will not be there automatically for you** as it happens in the course.\n",
    "\n",
    "To launch a simulation:\n",
    "\n",
    "1. You need to have the simulation code inside the ***`simulation_ws`*** (already done for you in this rosject).\n",
    "2. You need to know beforehand the Linux command necessary to launch that simulation (you will get it below).\n",
    "3. You will need to open a terminal.\n",
    "4. Then type the Linux command on the terminal.\n",
    "5. Once the simulation has fully started, the simulation window will automatically appear.\n",
    "6. In case you closed that window and want to open it again, use the following icon on the bottom bar:\n",
    "\n",
    "<center><img src=\"images/icon_load_gazebo.png\" width=\"50\"/></center>"
   ]
  },
  {
   "cell_type": "markdown",
   "metadata": {},
   "source": [
    "### How to open the graphical tools\n",
    "\n",
    "You already know about the graphical tools:\n",
    "\n",
    "<center><img src=\"images/icon_graphical_tools.png\" width=\"50\"/></center>\n",
    "\n",
    "Opens ***`rviz`***, **only if rviz has been launched from a terminal**. You will also see any other GUI applications in here, like ***`rqt`***."
   ]
  },
  {
   "cell_type": "markdown",
   "metadata": {},
   "source": [
    "### How to connect to the real robot\n",
    "\n",
    "When you are ready to connect to the real robot and practice with it, you will need to do a booking of the robot and then use the following icon to connect to the real robot:\n",
    "\n",
    "<center><img src=\"images/icon_realrobotlab_comingup.png\" width=\"50\"/></center>\n",
    "\n",
    "Check the Appendix below to learn **how to book a session with the real robot**."
   ]
  },
  {
   "cell_type": "markdown",
   "metadata": {},
   "source": [
    "### How to check the course notebooks\n",
    "\n",
    "In case you need to check something from the courses that you forgot, **YOU DON'T NEED TO SWITCH TO THE COURSE!** You can open any course content from within the rosject using the following icon:\n",
    "\n",
    "<center><img src=\"images/icon_course_notebooks.png\" width=\"50\"/></center>\n",
    "\n",
    "Opens any notebook from all of our courses. Very useful if you want to quickly check something from the courses (that you have completed) without having to open it.\n",
    "\n",
    "<center><img src=\"images/python_basics_course_notebooks.png\" width=\"750\"/></center>"
   ]
  },
  {
   "cell_type": "markdown",
   "metadata": {},
   "source": [
    "<div class=\"section\" style=\"height:1.8em;background:WhiteSmoke\">\n",
    "  <h2 class=\"section-title\" style=\"text-align:center\">\n",
    "    <span class=\"section-title-secondary\" style=\"text-align:center;color:Black\">The Project</span>\n",
    "  </h2>\n",
    "</div>"
   ]
  },
  {
   "cell_type": "markdown",
   "metadata": {},
   "source": [
    "This rosject has **three** parts. Complete each section as directed, from the instructions provided below.\n",
    "\n",
    "- **Part 1:** Get to Know the Robot and the Lab\n",
    "- **Part 2:** Create Programs to Control the Robot\n",
    "- **Part 3:** Implement Basic Robot Algorithms"
   ]
  },
  {
   "cell_type": "markdown",
   "metadata": {},
   "source": [
    "Before anything else, you will need to **launch the simulation** of the project. You will use the simulation to practice with the simulated environment first, before working with the real robot."
   ]
  },
  {
   "cell_type": "markdown",
   "metadata": {},
   "source": [
    "<div class=\"section\" style=\"height:1.8em;background:WhiteSmoke\">\n",
    "  <h2 class=\"section-title\" style=\"text-align:center\">\n",
    "    <span class=\"section-title-secondary\" style=\"text-align:center;color:Black\">Launching the Simulation</span>\n",
    "  </h2>\n",
    "</div>"
   ]
  },
  {
   "cell_type": "markdown",
   "metadata": {},
   "source": [
    "Before working on your code, you need a simulation (or an actual robot) to be running. During the **Python for Robotics** course, you saw the simulation running in the top right corner. The simulation was automatically launched.\n",
    "\n",
    "In real development environments, you decide when to launch the simulation in order to start working. \n",
    "\n",
    "Now, let's launch the simulation we will need for this project:"
   ]
  },
  {
   "cell_type": "markdown",
   "metadata": {},
   "source": [
    "1. Open a terminal by pressing on the ***Terminal*** icon on the bottom bar of your screen.\n",
    "\n",
    "2. On the opened terminal, type the following **ROS** command that launches the simulation."
   ]
  },
  {
   "cell_type": "markdown",
   "metadata": {},
   "source": [
    "<div class=\"execute\" style=\"width:14.0em;height:1.5em;border-radius:0.8em;background:Silver\">\n",
    "  <p class=\"executetext\" style=\"text-align:center;color:Black\">\n",
    "    <i class=\"fa fa-terminal\" style=\"font-size:1.5em\"></i>\n",
    "    &nbsp;\n",
    "    <b>Execute in Terminal</b>\n",
    "  </p>\n",
    "</div>"
   ]
  },
  {
   "cell_type": "code",
   "execution_count": null,
   "metadata": {},
   "outputs": [],
   "source": [
    "source ~/simulation_ws/install/setup.bash\n",
    "ros2 launch turtlebot3_gazebo main_turtlebot3_lab.launch.xml"
   ]
  },
  {
   "cell_type": "markdown",
   "metadata": {},
   "source": [
    "**Wait approximately 30 seconds** for the simulation to start. The simulation should automatically appear in a **Gazebo** window.\n",
    "\n",
    "If it doesn't automatically appear, open the **Gazebo** window yourself, using the **Gazebo** icon:\n",
    "\n",
    "<center><img src=\"images/icon_load_gazebo.png\" width=\"50\"/></center>"
   ]
  },
  {
   "cell_type": "markdown",
   "metadata": {},
   "source": [
    "<center><img src=\"images/new_sim.png\" width=\"750\"/></center>"
   ]
  },
  {
   "cell_type": "markdown",
   "metadata": {},
   "source": [
    "<div class=\"separator-primary\" style=\"height:1.6em;width:100%;background:Tomato\">\n",
    "  <p class=\"separatortitle\" style=\"text-align:center;color:Black\"><b>- Important Notes -</b></p>\n",
    "</div>"
   ]
  },
  {
   "cell_type": "markdown",
   "metadata": {},
   "source": [
    "**NOTE 1:** The terminal that has the simulation running will be occupied by it, so you will not be able to use it unless you kill the simulation. Therefore, you will have to open new terminals for other purposes while keeping the simulation running.\n",
    "\n",
    "**NOTE 2:** When you use the above command to launch the simulation for the first time after starting this rosject, chances are, **Gazebo** will not launch as expected. If you don't see **Gazebo** show up after 60+ seconds, just terminate the above command running in the terminal and launch the simulation again from the same terminal using the same above command. This is an expected behavior since the rosject is running on a cloud-based virtual machine and applications require some time to warmup to initialize properly. **Do Not Panic** when you don't see the simulation when you launch it for the very first time!"
   ]
  },
  {
   "cell_type": "markdown",
   "metadata": {},
   "source": [
    "<div class=\"separator-primary\" style=\"height:1.6em;width:100%;background:Tomato\">\n",
    "  <p class=\"separatortitle\" style=\"text-align:center;color:Black\"><b>- End of Important Notes -</b></p>\n",
    "</div>"
   ]
  },
  {
   "cell_type": "markdown",
   "metadata": {},
   "source": [
    "<div class=\"section\" style=\"height:1.8em;background:WhiteSmoke\">\n",
    "  <h2 class=\"section-title\" style=\"text-align:center\">\n",
    "    <span class=\"section-title-primary\" style=\"text-align:center;color:RoyalBlue\">Part 1</span>\n",
    "    &nbsp;&nbsp;&nbsp;\n",
    "    <span class=\"section-title-secondary\" style=\"text-align:center;color:Black\">Get to Know the Robot and the Lab</span>\n",
    "  </h2>\n",
    "</div>"
   ]
  },
  {
   "cell_type": "markdown",
   "metadata": {},
   "source": [
    "For this part of the project, you will get to know the robot, **TurtleBot3**, and the lab associated with this robot. You will simply learn how to drive the robot in simulation and in the real robot lab. This part has no programming task, but it is very essential that you learn how to use the simulation and the real robot lab."
   ]
  },
  {
   "cell_type": "markdown",
   "metadata": {},
   "source": [
    "Follow the steps listed below to get started with this part:"
   ]
  },
  {
   "cell_type": "markdown",
   "metadata": {},
   "source": [
    "1. First, launch the **TurtleBot3** **Simulation** with **Gazebo**:\n",
    "   - Copy and paste the commands to launch the simulation in a new terminal window (refer **Launching the Simulation** section above).\n",
    "   - The simulation environment, as you can see in the picture above, is a close-replica of what you will see in the real robot lab environment.\n",
    "   - Once the simulation is launched, you will see two windows starting up - one for **Gazebo** and another for **RViz**.\n",
    "     - **Gazebo** is the simulator. This is a digital duplicate of the robot and its environment.\n",
    "     - **RViz** is a robot visualizer. **RViz** is **not** a simulator, it converts robot data into human-readable form.\n",
    "   - Wait for **30 seconds** so the simulation launches completely and successfully.\n",
    "   - In **Gazebo**, you will see the robot, the robot arena and some (non-movable) obstacles on the arena.\n",
    "   - In **RViz**, you can visualize what the robot perceives through its sensors, in simple words, you will see what the robot senses.\n",
    "   - To change views in **Gazebo**, follow these steps:\n",
    "     - Zoom-in / Zoom-out: scroll button (mouse) or scroll gesture (touch-pad).\n",
    "     - Pan Scene: left click and drag (mouse) or tap once and drag (touch-pad).\n",
    "     - Rotate Scene: scroll button and drag (mouse) or shift + left click and drag (touch-pad).\n",
    "   - To change views in **RViz**, follow these steps:\n",
    "     - Zoom-in / Zoom-out: scroll button (mouse) or scroll gesture (touch-pad).\n",
    "     - Pan Scene: scroll button and drag (mouse) or shift + left click and drag (touch-pad).\n",
    "     - Rotate Scene: left click and drag (mouse) or tap once and drag (touch-pad)."
   ]
  },
  {
   "cell_type": "markdown",
   "metadata": {},
   "source": [
    "Your **Simulation** environment setup should look similar to the image shown below:\n",
    "<center><img src=\"images/task1_environment_setup_sim.png\" width=\"750\"/></center>"
   ]
  },
  {
   "cell_type": "markdown",
   "metadata": {},
   "source": [
    "2. Move the robot around in the **Simulation** and see what the robot senses:\n",
    "   - To move the robot around, you need to launch the **teleop** program (refer **Test Your Programs in the Simulation** section below).\n",
    "   - Once you have launched the **teleop** program, you can use the appropriate keys to move the robot as you wish.\n",
    "   - While you are moving the robot, pay attention to what the robot perceives by looking in the **RViz** window.\n",
    "   - Once you are done playing with the robot in the simulation, you can terminate all the programs running in the terminals."
   ]
  },
  {
   "cell_type": "markdown",
   "metadata": {},
   "source": [
    "Your **Simulation** result should look similar to the animation shown below:\n",
    "\n",
    "**NOTE:** The animation shown below runs at ***`4x`*** the actual speed.\n",
    "\n",
    "<center><img src=\"animations/python_basics_task1_sim.gif\" width=\"750\"/></center>"
   ]
  },
  {
   "cell_type": "markdown",
   "metadata": {},
   "source": [
    "3. Next, connect to the **TurtleBot3** **Real Robot** through this **ROSject**:\n",
    "   - Make a reservation for the **Turtlebot** lab (refer **How to Connect to the Real Robot** section below).\n",
    "   - Follow the steps from **2 - 6** in the **Test your Programs on the Real Robot** section below.\n",
    "   - **NOTE:** In the real robot environment, the obstacles are not fixed. So they will move away if you crash the robot into them. So try your best to avoid crashing directly into the obstacles (or walls)."
   ]
  },
  {
   "cell_type": "markdown",
   "metadata": {},
   "source": [
    "Your **Real Robot** environment setup should look similar to the image shown below:\n",
    "<center><img src=\"images/task1_environment_setup_real.png\" width=\"750\"/></center>"
   ]
  },
  {
   "cell_type": "markdown",
   "metadata": {},
   "source": [
    "4. Move the robot around in the **Real Robot Lab** and see what the robot senses.\n",
    "   - Follow the steps from **7 - 8** in the **Test your Programs on the Real Robot** section below.\n",
    "   - Once you are done playing with the real robot in the lab, you can terminate all the programs running in the terminals.\n",
    "   - Remember to **disconnect** from the **Real Robot Lab** to start working with the simulation again.\n",
    "   - **NOTE:** You **cannot** have **Gazebo** simulation also running when you are connected to the **Real Robot Lab**."
   ]
  },
  {
   "cell_type": "markdown",
   "metadata": {},
   "source": [
    "Your **Real Robot** result should look similar to the animation shown below:\n",
    "\n",
    "**NOTE:** The animation shown below runs at ***`4x`*** the actual speed.\n",
    "\n",
    "<center><img src=\"animations/python_basics_task1_real.gif\" width=\"750\"/></center>"
   ]
  },
  {
   "cell_type": "markdown",
   "metadata": {},
   "source": [
    "<div class=\"separator-primary\" style=\"height:1.6em;width:100%;background:Tomato\">\n",
    "  <p class=\"separatortitle\" style=\"text-align:center;color:Black\"><b>- Important Notes -</b></p>\n",
    "</div>"
   ]
  },
  {
   "cell_type": "markdown",
   "metadata": {},
   "source": [
    "At this point, you must have gained a good understanding of how the robot works in the simulation and in the real robot lab. You should have also learned how to work in this **ROSject** environment and the differences between working in a course environment and in this rosject environment."
   ]
  },
  {
   "cell_type": "markdown",
   "metadata": {},
   "source": [
    "<div class=\"separator-primary\" style=\"height:1.6em;width:100%;background:Tomato\">\n",
    "  <p class=\"separatortitle\" style=\"text-align:center;color:Black\"><b>- End of Important Notes -</b></p>\n",
    "</div>"
   ]
  },
  {
   "cell_type": "markdown",
   "metadata": {},
   "source": [
    "<div class=\"section\" style=\"height:1.8em;background:WhiteSmoke\">\n",
    "  <h2 class=\"section-title\" style=\"text-align:center\">\n",
    "    <span class=\"section-title-primary\" style=\"text-align:center;color:RoyalBlue\">Part 2</span>\n",
    "    &nbsp;&nbsp;&nbsp;\n",
    "    <span class=\"section-title-secondary\" style=\"text-align:center;color:Black\">Create Programs to Control the Robot</span>\n",
    "  </h2>\n",
    "</div>"
   ]
  },
  {
   "cell_type": "markdown",
   "metadata": {},
   "source": [
    "For this part of the project, you will create **two programs** for **Robot Control**. The two programs will perform the exact same thing, but they are structurally different. The **first program will not follow object-oriented approach** and the **second program will follow object-oriented approach**.\n",
    "\n",
    "This exercise will provide you the necessary knowledge and understanding for the need to use object-oriented approach in programming. You will learn the advantages and disadvantages of each method - object-oriented and non-object-oriented."
   ]
  },
  {
   "cell_type": "markdown",
   "metadata": {},
   "source": [
    "Follow the steps listed below to get started with this part:"
   ]
  },
  {
   "cell_type": "markdown",
   "metadata": {},
   "source": [
    "1. Navigate to the program location:\n",
    "   - Open the **IDE** using the **Code Editor** button in the bottom bar.\n",
    "   - On the left file explorer menu on the **IDE**, navigate to **`ros2_ws/src/python_basics_project/python_basics_project`**.\n",
    "   - There you will find **three** main **Python** program files:\n",
    "     - **`robot_interface.py`**:\n",
    "       - This is the main **ROS2** program written in **Python** to communicate with the robot.\n",
    "       - **You will not modify anything in this file. If you change something, then the robot might not work.**\n",
    "       - You may, however, have a look at the program if you are curious to know what is in there!\n",
    "     - **`robot_control_noclass.py`**:\n",
    "       - This is the first file where you will write your code to control the robot.\n",
    "       - In this **Python** file, you will write your robot control program **without** object-orientation approach.\n",
    "     - **`robot_control_classed.py`**:\n",
    "       - This is the second file where you will write your code to control the robot.\n",
    "       - In this **Python** file, you will write your robot control program **with** object-orientation approach.\n",
    "     - **`__init__.py`**:\n",
    "       - This is a blank **Python** file for module initialization.\n",
    "       - **You will not do any changes in this file.**"
   ]
  },
  {
   "cell_type": "markdown",
   "metadata": {},
   "source": [
    "This is how the program package is structured:\n",
    "- Work **only** with **`robot_control_noclass.py`** and **`robot_control_classed.py`** files.\n",
    "- **NOTE:** Do not modify any other files, otherwise the robot may not work as expected!\n",
    "\n",
    "<center><img src=\"images/project_file_structure.png\" width=\"750\"/></center>"
   ]
  },
  {
   "cell_type": "markdown",
   "metadata": {},
   "source": [
    "2. Here is a (huge) list of **mandatory** functions that you need to program inside each of the two **`robot_control`** **Python** files:\n",
    "- Refer to the **Robot Interface Variables** below, to know the available program variables that you can use to create the following functions.\n",
    "---\n",
    "   - **Robot Movement**: (14 functions in total)\n",
    "     - **Get Linear and Angular Velocities**:\n",
    "       - a function that gets the current linear and angular velocities of the robot.\n",
    "     - **Stop Robot**:\n",
    "       - a function that stops the robot movement.\n",
    "     - **Move Robot Front**:\n",
    "       - a function that moves the robot forward with a provided linear speed value.\n",
    "     - **Move Robot Back**:\n",
    "       - a function that moves the robot backward with a provided linear speed value.\n",
    "     - **Turn Robot Left**:\n",
    "       - a function that turns the robot left with a provided angular speed value.\n",
    "     - **Turn Robot Right**:\n",
    "       - a function that turns the robot right with a provided angular speed value.\n",
    "     - **Timed Move Front**:\n",
    "       - a function that moves the robot forward with a provided linear speed value for a few seconds.\n",
    "     - **Timed Move Back**:\n",
    "       - a function that moves the robot backward with a provided linear speed value for a few seconds.\n",
    "     - **Timed Turn Left**:\n",
    "       - a function that turns the robot left with a provided angular speed value for a few seconds.\n",
    "     - **Timed Turn Right**:\n",
    "       - a function that turns the robot right with a provided angular speed value for a few seconds.\n",
    "     - **Move Distance Front**:\n",
    "       - a function that moves the robot forward with a provided linear speed value for a few (centi)meters.\n",
    "       - uses open-loop control: `distance = linear_speed x time`.\n",
    "     - **Move Distance Back**:\n",
    "       - a function that moves the robot backward with a provided linear speed value for a few (centi)meters.\n",
    "       - uses open-loop control: `distance = linear_speed x time`.\n",
    "     - **Turn Angle Left**:\n",
    "       - a function that turns the robot left with a provided angular speed value for a few radians.\n",
    "       - uses open-loop control: `angle = angular_speed x time`.\n",
    "     - **Turn Angle Right**:\n",
    "       - a function that turn the robot right with a provided angular speed value for a few radians.\n",
    "       - uses open-loop control: `angle = angular_speed x time`.\n",
    "---\n",
    "   - **Laser Scanner**:  (13 functions in total)\n",
    "     - **Get Minimum Scan Angle**:\n",
    "       - a function that will return the minimum scan angle value from the scan message.\n",
    "     - **Get Maximum Scan Angle**:\n",
    "       - a function that will return the maximum scan angle value from the scan message.\n",
    "     - **Get Angle Increment**:\n",
    "       - a function that will return the angle increment value from the scan message.\n",
    "     - **Get Minimum Scan Range**:\n",
    "       - a function that will return the minimum scan range value from the scan message.\n",
    "       - this is the minimum range the laser scanner can sense.\n",
    "     - **Get Maximum Scan Range**:\n",
    "       - a function that will return the maximum scan range value from the scan message.\n",
    "       - this is the maximum range the laser scanner can sense.\n",
    "     - **Get All Scan Ranges**:\n",
    "       - a function that will return the all the scan range values as a list.\n",
    "     - **Get Scan Range by Index**:\n",
    "       - a function that will return the scan range value for the specified index.\n",
    "     - **Get Front Scan Range**:\n",
    "       - a function that will directly return the front scan range value.\n",
    "     - **Get Back Scan Range**:\n",
    "       - a function that will directly return the back scan range value.\n",
    "     - **Get Left Scan Range**:\n",
    "       - a function that will directly return the left scan range value.\n",
    "     - **Get Right Scan Range**:\n",
    "       - a function that will directly return the right scan range value.\n",
    "     - **Get Minimum Range != inf with Index**:\n",
    "       - a function that will return the minimum scan range value from the list of all scan range values, along with the index number.\n",
    "       - this function will not account for any **`inf`** (infinity) values present in the list.\n",
    "       - this function is not the same as the above minimum scan range.\n",
    "     - **Get Maximum Range != inf with Index**:\n",
    "       - a function that will return the maximum scan range value from the list of all scan range values, along with the index number.\n",
    "       - this function will not account for any **`inf`** (infinity) values present in the list.\n",
    "       - this function is not the same as the above maximum scan range.\n",
    "---\n",
    "   - **Odometry**: (3 functions in total)\n",
    "     - **Get Current Position X, Y, Z**:\n",
    "       - a function that returns the current position values **`x, y, z`** of the robot as a dictionary.\n",
    "     - **Get Current Orientation R, P, Y**:\n",
    "       - a function that returns the current orientation values **`roll, pitch, yaw`** of the robot as a dictionary.\n",
    "     - **Get Distance using Euclidean Formula**:\n",
    "       - a function that calculates and returns the Euclidean distance measure between two position values.\n",
    "       - this function will **not** provide the incremental distance value.\n",
    "       - for simplicity, you will calculate only 2-dimensional distance, that is, in the X-Y plane.\n",
    "       - **`distance = {[(x2 - x1) ^ 2] + [(y2 - y1) ^ 2]} ^ (1 / 2)`**\n",
    "---\n",
    "   - **IMU**:  (2 functions in total)\n",
    "     - **Get Current Angular Velocity X, Y, Z**:\n",
    "       - a function that returns the current angular velocity values **`x, y, z`** of the robot as a dictionary.\n",
    "     - **Get Current Linear Acceleration X, Y, Z**:\n",
    "       - a function that returns the current linear acceleration values **`x, y, z`** of the robot as a dictionary.\n",
    "---\n",
    "\n",
    "**NOTE:** You will program all of the above functions in both versions of the program - non-object-oriented and object-oriented versions. You will not use any class(es) in the non-object-oriented version and you will implement class(es) in the object-oriented version."
   ]
  },
  {
   "cell_type": "markdown",
   "metadata": {},
   "source": [
    "**Robot Interface Variables:**\n",
    "\n",
    "- **general constants:**\n",
    "  - *`pi`*, *`pi_inv`*\n",
    "\n",
    "- **cmd_vel publisher variables:**\n",
    "  - *`linear_velocity`*, *`angular_velocity`*\n",
    "\n",
    "- **scan subscriber variables:**\n",
    "  - *`scan_angle_min`*, *`scan_angle_max`*, *`scan_angle_increment`*\n",
    "  - *`scan_range_min`*, *`scan_range_max`*, *`scan_ranges`*\n",
    "\n",
    "- **odom subscriber variables:**\n",
    "  - *`odom_position_x`*, *`odom_position_y`*, *`odom_position_z`*\n",
    "  - *`odom_orientation_r`*, *`odom_orientation_p`*, *`odom_orientation_y`*\n",
    "\n",
    "- **imu subscriber variables:**\n",
    "  - *`imu_angular_velocity_x`*, *`imu_angular_velocity_y`*, *`imu_angular_velocity_z`*\n",
    "  - *`imu_linear_acceleration_x`*, *`imu_linear_acceleration_y`*, *`imu_linear_acceleration_z`*"
   ]
  },
  {
   "cell_type": "markdown",
   "metadata": {},
   "source": [
    "3. Write a function to test out all the above functions:\n",
    "   - This function may or may not be the ***main()*** function. The program design and function naming is your choice!\n",
    "   - Check the result in **both** the environments - the **Simulation** and on the **Real Robot**.\n",
    "   - **NOTE:** When testing your functions, always have the **`teleop`** program started in another terminal. That way, if your robot goes crazy during your testing, you can immediately use the **`teleop`** program to stop the robot."
   ]
  },
  {
   "cell_type": "markdown",
   "metadata": {},
   "source": [
    "**REMINDER:**\n",
    "- Make sure that **Gazebo** is running in another terminal when you are testing in the **Simulation**.\n",
    "- Make sure that **Bringup** is running in another terminal when you are testing on the **Real Robot**."
   ]
  },
  {
   "cell_type": "markdown",
   "metadata": {},
   "source": [
    "<div class=\"execute\" style=\"width:14.0em;height:1.5em;border-radius:0.8em;background:Silver\">\n",
    "  <p class=\"executetext\" style=\"text-align:center;color:Black\">\n",
    "    <i class=\"fa fa-terminal\" style=\"font-size:1.5em\"></i>\n",
    "    &nbsp;\n",
    "    <b>Execute in Terminal</b>\n",
    "  </p>\n",
    "</div>"
   ]
  },
  {
   "cell_type": "code",
   "execution_count": null,
   "metadata": {},
   "outputs": [],
   "source": [
    "cd ~/ros2_ws/src/python_basics_project/python_basics_project"
   ]
  },
  {
   "cell_type": "code",
   "execution_count": null,
   "metadata": {},
   "outputs": [],
   "source": [
    "python3 ./robot_control_noclass.py"
   ]
  },
  {
   "cell_type": "code",
   "execution_count": null,
   "metadata": {},
   "outputs": [],
   "source": [
    "python3 ./robot_control_classed.py"
   ]
  },
  {
   "cell_type": "markdown",
   "metadata": {},
   "source": [
    "Here is a sample output animation with (most of) the above functions implemented, in the **Simulation** and on the **Real Robot** environments:\n",
    "\n",
    "**NOTE:** The animations shown below runs at ***`4x`*** the actual speed.\n",
    "\n",
    "***Simulation:***\n",
    "<center><img src=\"animations/python_basics_task2_sim.gif\" width=\"750\"/></center>\n",
    "\n",
    "***Real Robot:***\n",
    "<center><img src=\"animations/python_basics_task2_real.gif\" width=\"750\"/></center>"
   ]
  },
  {
   "cell_type": "markdown",
   "metadata": {},
   "source": [
    "<div class=\"separator-primary\" style=\"height:1.6em;width:100%;background:Tomato\">\n",
    "  <p class=\"separatortitle\" style=\"text-align:center;color:Black\"><b>- Important Notes -</b></p>\n",
    "</div>"
   ]
  },
  {
   "cell_type": "markdown",
   "metadata": {},
   "source": [
    "At this point, you should have the completed and tested versions of the **`robot_control`** programs. You must have gained a good understanding of how object-oriented and non-object-oriented programs work on the robot in both the environments - in the simulation and in the real robot lab. You should have also understood the simplicity and complexity that lies in each of the program versions, along with its advantages and disadvantages."
   ]
  },
  {
   "cell_type": "markdown",
   "metadata": {},
   "source": [
    "<div class=\"separator-primary\" style=\"height:1.6em;width:100%;background:Tomato\">\n",
    "  <p class=\"separatortitle\" style=\"text-align:center;color:Black\"><b>- End of Important Notes -</b></p>\n",
    "</div>"
   ]
  },
  {
   "cell_type": "markdown",
   "metadata": {},
   "source": [
    "<div class=\"section\" style=\"height:1.8em;background:WhiteSmoke\">\n",
    "  <h2 class=\"section-title\" style=\"text-align:center\">\n",
    "    <span class=\"section-title-primary\" style=\"text-align:center;color:RoyalBlue\">Part 3</span>\n",
    "    &nbsp;&nbsp;&nbsp;\n",
    "    <span class=\"section-title-secondary\" style=\"text-align:center;color:Black\">Implement Basic Robot Algorithms</span>\n",
    "  </h2>\n",
    "</div>"
   ]
  },
  {
   "cell_type": "markdown",
   "metadata": {},
   "source": [
    "For this part of the project, you will implement some basic robot algorithms using your **`Robot Control`** program. You will work **only** with the **object-oriented version** of the program, because at this point, you would have understood that non-object oriented programming is quite a pain!"
   ]
  },
  {
   "cell_type": "markdown",
   "metadata": {},
   "source": [
    "Follow the steps listed below to get started with this part:"
   ]
  },
  {
   "cell_type": "markdown",
   "metadata": {},
   "source": [
    "1. Open up the **object-oriented version** of the **Robot Control** program on your **IDE**."
   ]
  },
  {
   "cell_type": "markdown",
   "metadata": {},
   "source": [
    "2. Comment out all the codes that you wrote to test your functions in the previous part.\n",
    "   - **Do not comment out the function definitions.** Comment out only the test codes.\n",
    "   - You will replace the test codes with the algorithms described below."
   ]
  },
  {
   "cell_type": "markdown",
   "metadata": {},
   "source": [
    "3. Create a new function to perform **Obstacle Prediction**:\n",
    "   - First, get all the laser scan ranges from the robot and extract only the frontal **90 degrees** of laser scan ranges.\n",
    "   - Identify the front laser scan index and take 45 degrees to the right and 45 degrees to the left, totaling 90 degrees in the front. You need to find the index that corresponds to the ray that is 45 degrees to the right of the front scan index and 45 degrees to the left of the front scan index.\n",
    "   - Once you get the frontal scan ranges, exclude all the values that contain **`inf`** (infinity), if there are any.\n",
    "   - With the new set of front ranges (without infinity), get the minimum of all the values.\n",
    "   - If the minimum value is greater than a threshold value, for example **`0.300` meters**, then print the obstacle prediction as **`none`**.\n",
    "   - If the minimum value is less than the threshold value, then calculate the statistical modes in the front ranges list. Use the **`multimode`** function from the **`statistics`** library in **Python**.\n",
    "   - If the result of the **`multimode`** function gives you more than **1** value, then print the obstacle prediction as **`obstacle`**.\n",
    "   - Otherwise, print the obstacle prediction as **`wall`**.\n",
    "   - **NOTE:** This method is a simple and easy method to predict an obstacle. It is not perfect by any means and might predict **wall** as **obstacle** sometimes. So **do not panic** if your result is not perfect!"
   ]
  },
  {
   "cell_type": "markdown",
   "metadata": {},
   "source": [
    "4. Create a function to perform **Direction Tracking**:\n",
    "   - First, get the current **orientation** of the robot, using the functions that you created to get odometry values.\n",
    "   - Make use of the **`yaw`** value to determine which direction the robot is facing.\n",
    "   - The **`yaw`** value goes from **`0.00000 to 3.14159`** in the counter clockwise (left) direction and from **`0.00000 to -3.14159`** in the clockwise (right) direction.\n",
    "   - Divide the entire range of **`yaw`** values into **16** equally spaced segments to denote the direction.\n",
    "   - **`+/-0.00000`: North, `+1.57080`: West, `+/-3.14159`: South, `-1.57080` : East**.\n",
    "   - Directions: **`-N-, NNW, N-W, WNW, -W-, WSW, S-W, SSW, -S-, SSE, S-E, ESE, -E-, ENE, N-E, NNE`**\n",
    "   - Once you have matched the current **`yaw`** value of the robot with the corresponding direction, print the direction as a **3-character** **`string`**, as mentioned in the previous step.\n",
    "   - **NOTE:** These direction values are with respect to the robot, so the directions may not exactly coincide with actual directions in the real world. So **do not panic** if your result is not exact!"
   ]
  },
  {
   "cell_type": "markdown",
   "metadata": {},
   "source": [
    "5. Implement the **Naive Obstacle Avoider** algorithm on the robot:\n",
    "   - Start by getting all the laser scan ranges of the robot.\n",
    "   - Divide the laser scan ranges into **eight** equal segments of **45 degrees** each.\n",
    "   - You will only make use of the **left, front-left, front, front-right, right** segments. So you will **not** use the **back-left, back, back-right** segments.\n",
    "   - Get the minimum value for each of the **five** segments to be used.\n",
    "   - Now, check if then minimum of **front-left, front, front-right** values are above a threshold value, for example **`0.300` meters**.\n",
    "   - If the **front** side is greater than the threshold value, keep moving forward.\n",
    "   - If either the **front-left** or the **front-right** side is less than the threshold value, turn to the opposite side and move forward.\n",
    "   - If the **front** side is less than the threshold value, compare which side - **left** or **right** has a greater minimum value and turn to that side and then move forward.\n",
    "   - If all the **three** frontal segments - **front-left, front, front-right** are blocked, then again compare which side - **left** or **right** has a greater minimum value and turn to that side and then move forward.\n",
    "   - While doing this task, you should also start calculating the distance moved since the start of the task.\n",
    "   - So before you start the task, save the current position as **previous position**.\n",
    "   - At the end of each iteration of the obstacle avoider logic, save the **current position**.\n",
    "   - Calculate the distance traveled in each iteration and add it to a **distance** variable.\n",
    "   - Print the current distance and then update the **previous position** value to the **current position** value, so it can be used in the next iteration cycle.\n",
    "   - Also, print the current **angular velocity** values and **linear acceleration** values of the robot using the functions you wrote earlier to get the IMU data.\n",
    "   - Finally, terminate the program whenever you wish to end it, or use a timed loop to stop the robot after a few minutes, for example 5 minutes (300 seconds).\n",
    "   - **NOTE:** This obstacle avoidance logic is not the best algorithm by any means. But for a person starting to learn how to program robots, this algorithm is a good beginning point. So **do not panic** if the robot runs into obstacles sometimes. Stop this program immediately and use the **teleop** program to move the robot away and stop the robot."
   ]
  },
  {
   "cell_type": "markdown",
   "metadata": {},
   "source": [
    "6. Test all the tasks that you programmed in the above three steps:\n",
    "   -  The robot **must** be able to perform the tasks in **both** the environments - the **Simulation** and the **Real Robot**.\n",
    "   - **IMPORTANT ADVICE:**\n",
    "     - Your program does **not** have to be perfect or optimized.\n",
    "     - Your program does **not** have to be complex or tedious.\n",
    "     - Your program does **not** have to implement any special or advanced algorithms.\n",
    "     - In simple words, your program must do the job, what you have programmed it to do.\n",
    "     - The goal of this project is to test your **Python** proficiency, not your **Robotics** skills yet!"
   ]
  },
  {
   "cell_type": "markdown",
   "metadata": {},
   "source": [
    "**REMINDER:**\n",
    "- Make sure that **Gazebo** is running in another terminal when you are testing in the **Simulation**.\n",
    "- Make sure that **Bringup** is running in another terminal when you are testing on the **Real Robot**."
   ]
  },
  {
   "cell_type": "markdown",
   "metadata": {},
   "source": [
    "<div class=\"execute\" style=\"width:14.0em;height:1.5em;border-radius:0.8em;background:Silver\">\n",
    "  <p class=\"executetext\" style=\"text-align:center;color:Black\">\n",
    "    <i class=\"fa fa-terminal\" style=\"font-size:1.5em\"></i>\n",
    "    &nbsp;\n",
    "    <b>Execute in Terminal</b>\n",
    "  </p>\n",
    "</div>"
   ]
  },
  {
   "cell_type": "code",
   "execution_count": null,
   "metadata": {},
   "outputs": [],
   "source": [
    "cd ~/ros2_ws/src/python_basics_project/python_basics_project"
   ]
  },
  {
   "cell_type": "code",
   "execution_count": null,
   "metadata": {},
   "outputs": [],
   "source": [
    "python3 ./robot_control_classed.py"
   ]
  },
  {
   "cell_type": "markdown",
   "metadata": {},
   "source": [
    "Here is a sample output animation with the above functions implemented, in the **Simulation** and on the **Real Robot** environments:\n",
    "\n",
    "**NOTE:** The animations shown below runs at ***`4x`*** the actual speed.\n",
    "\n",
    "***Simulation:***\n",
    "<center><img src=\"animations/python_basics_task3_sim.gif\" width=\"750\"/></center>\n",
    "\n",
    "***Real Robot:***\n",
    "<center><img src=\"animations/python_basics_task3_real.gif\" width=\"750\"/></center>"
   ]
  },
  {
   "cell_type": "markdown",
   "metadata": {},
   "source": [
    "<div class=\"separator-primary\" style=\"height:1.6em;width:100%;background:Tomato\">\n",
    "  <p class=\"separatortitle\" style=\"text-align:center;color:Black\"><b>- Important Notes -</b></p>\n",
    "</div>"
   ]
  },
  {
   "cell_type": "markdown",
   "metadata": {},
   "source": [
    "At this point, you should have completed this whole project and have it working on both - the **Simulation** and on the **Real Robot**.\n",
    "\n",
    "With all the hard-work that you have put in into this project, you should now be motivated well-enough to take up **Robotics** as your future career and be ready to take on heavier challenges!\n",
    "\n",
    "Most importantly, you should now be ready to present your project to us as a **live-presentation** and show the world that you are a prospective formidable robotics candidate!"
   ]
  },
  {
   "cell_type": "markdown",
   "metadata": {},
   "source": [
    "<div class=\"separator-primary\" style=\"height:1.6em;width:100%;background:Tomato\">\n",
    "  <p class=\"separatortitle\" style=\"text-align:center;color:Black\"><b>- End of Important Notes -</b></p>\n",
    "</div>"
   ]
  },
  {
   "cell_type": "markdown",
   "metadata": {},
   "source": [
    "<div class=\"section\" style=\"height:1.8em;background:WhiteSmoke\">\n",
    "  <h2 class=\"section-title\" style=\"text-align:center\">\n",
    "    <span class=\"section-title-secondary\" style=\"text-align:center;color:Black\">Test your Programs in the Simulation</span>\n",
    "  </h2>\n",
    "</div>"
   ]
  },
  {
   "cell_type": "markdown",
   "metadata": {},
   "source": [
    "<span><b><span style=\"color:Red\">Remember: </span>If your robot is not responding properly in the simulation, then it will definitely not respond well on the real robot!</b></span>\n",
    "\n",
    "Real-life robot development works this way: first, test your program in a simulation. When it works there, then try it on a real robot. **Never the other way around.**"
   ]
  },
  {
   "cell_type": "markdown",
   "metadata": {},
   "source": [
    "Follow the steps below to test your robot in the simulation:"
   ]
  },
  {
   "cell_type": "markdown",
   "metadata": {},
   "source": [
    "1. Make sure the simulation is launched, as explained above."
   ]
  },
  {
   "cell_type": "markdown",
   "metadata": {},
   "source": [
    "2. In another terminal, launch the ***`teleop_twist_keyboard`*** program with the following command:\n",
    "\n",
    "<div class=\"execute\" style=\"width:14.0em;height:1.5em;border-radius:0.8em;background:Silver\">\n",
    "  <p class=\"executetext\" style=\"text-align:center;color:Black\">\n",
    "    <i class=\"fa fa-terminal\" style=\"font-size:1.5em\"></i>\n",
    "    &nbsp;\n",
    "    <b>Execute in Terminal</b>\n",
    "  </p>\n",
    "</div>"
   ]
  },
  {
   "cell_type": "code",
   "execution_count": null,
   "metadata": {},
   "outputs": [],
   "source": [
    "ros2 run teleop_twist_keyboard teleop_twist_keyboard"
   ]
  },
  {
   "cell_type": "markdown",
   "metadata": {},
   "source": [
    "3. Test if you can move the robot properly in the simulation.\n",
    "   - Use the keyboard keys to move the robot around in the simulation.\n",
    "   - **Remember:** You must have focus on the terminal that runs the ***`teleop`*** program in order to be able to move the robot in the simulation."
   ]
  },
  {
   "cell_type": "markdown",
   "metadata": {},
   "source": [
    "<span><b><span style=\"color:Red\">IMPORTANT: </span>It is very necessary that you understand how to use the **`teleop`** program. It will help you stop the robot, if your robot goes crazy during testing.</b></span>"
   ]
  },
  {
   "cell_type": "markdown",
   "metadata": {},
   "source": [
    "<div class=\"section\" style=\"height:1.8em;background:WhiteSmoke\">\n",
    "  <h2 class=\"section-title\" style=\"text-align:center\">\n",
    "    <span class=\"section-title-secondary\" style=\"text-align:center;color:Black\">Test your Programs on the Real Robot</span>\n",
    "  </h2>\n",
    "</div>"
   ]
  },
  {
   "cell_type": "markdown",
   "metadata": {},
   "source": [
    "Once your robot is working **100%** in the simulation, then it is time to test your package on the real robot."
   ]
  },
  {
   "cell_type": "markdown",
   "metadata": {},
   "source": [
    "Follow the steps to test your work on the real robot:\n",
    "\n",
    "1. Book a date and time in the ***Real Robot Lab*** (refer **How to Connect to the Real Robot** section below).\n",
    "2. On the date and time selected, open this rosject.\n",
    "3. Connect to the real robot lab from within this rosject (refer Appendix below).\n",
    "4. You can use the on-screen joystick that is displayed along with the camera streams to move the real robot.\n",
    "5. Now, instead of launching the simulation, you will launch the real robot commands."
   ]
  },
  {
   "cell_type": "markdown",
   "metadata": {},
   "source": [
    "6. Once connected to the real robot lab, launch the **real robot bringup** program in a new terminal with the following command:\n",
    "\n",
    "<div class=\"execute\" style=\"width:14.0em;height:1.5em;border-radius:0.8em;background:Silver\">\n",
    "  <p class=\"executetext\" style=\"text-align:center;color:Black\">\n",
    "    <i class=\"fa fa-terminal\" style=\"font-size:1.5em\"></i>\n",
    "    &nbsp;\n",
    "    <b>Execute in Terminal</b>\n",
    "  </p>\n",
    "</div>"
   ]
  },
  {
   "cell_type": "code",
   "execution_count": null,
   "metadata": {},
   "outputs": [],
   "source": [
    "source ~/simulation_ws/install/setup.bash\n",
    "ros2 launch turtlebot3_realrobot main_turtlebot3_lab.launch.xml"
   ]
  },
  {
   "cell_type": "markdown",
   "metadata": {},
   "source": [
    "7. In another terminal, launch the ***`teleop_twist_keyboard`*** program with the following command:\n",
    "\n",
    "<div class=\"execute\" style=\"width:14.0em;height:1.5em;border-radius:0.8em;background:Silver\">\n",
    "  <p class=\"executetext\" style=\"text-align:center;color:Black\">\n",
    "    <i class=\"fa fa-terminal\" style=\"font-size:1.5em\"></i>\n",
    "    &nbsp;\n",
    "    <b>Execute in Terminal</b>\n",
    "  </p>\n",
    "</div>"
   ]
  },
  {
   "cell_type": "code",
   "execution_count": null,
   "metadata": {},
   "outputs": [],
   "source": [
    "ros2 run teleop_twist_keyboard teleop_twist_keyboard"
   ]
  },
  {
   "cell_type": "markdown",
   "metadata": {},
   "source": [
    "8. Test if you can move the robot properly in the real robot lab.\n",
    "   - Use the keyboard keys to move the robot around in the real robot lab.\n",
    "   - **Remember:** You must have focus on the terminal that runs the ***`teleop`*** program in order to be able to move the robot in the simulation.\n",
    "   - You can also use the **on-screen joystick** that is located within the **Real Robot Lab Camera Stream** window to move the robot."
   ]
  },
  {
   "cell_type": "markdown",
   "metadata": {},
   "source": [
    "<span><b><span style=\"color:Red\">IMPORTANT: </span>It is very necessary that you understand how to use the **`teleop`** program. It will help you stop the robot, if your robot goes crazy during testing.</b></span>"
   ]
  },
  {
   "cell_type": "markdown",
   "metadata": {},
   "source": [
    "<div class=\"separator-primary\" style=\"height:1.6em;width:100%;background:Tomato\">\n",
    "  <p class=\"separatortitle\" style=\"text-align:center;color:Black\"><b>- Important Notes -</b></p>\n",
    "</div>"
   ]
  },
  {
   "cell_type": "markdown",
   "metadata": {},
   "source": [
    "Once you have all your programs working properly in the **Simulation** and on the **Real Robot** without any issues, it is time to book your **Live Presentation** with us to get your **Certificate!** (Refer to Appendix sections below.)"
   ]
  },
  {
   "cell_type": "markdown",
   "metadata": {},
   "source": [
    "<div class=\"separator-primary\" style=\"height:1.6em;width:100%;background:Tomato\">\n",
    "  <p class=\"separatortitle\" style=\"text-align:center;color:Black\"><b>- End of Important Notes -</b></p>\n",
    "</div>"
   ]
  },
  {
   "cell_type": "markdown",
   "metadata": {},
   "source": [
    "<div class=\"separator-primary\" style=\"height:1.6em;width:100%;background:GoldenRod\">\n",
    "  <p class=\"separatortitle\" style=\"text-align:center;color:Black\"><b>- Presentation Guide -</b></p>\n",
    "</div>"
   ]
  },
  {
   "cell_type": "markdown",
   "metadata": {},
   "source": [
    "Here is a list of things that you will demonstrate during your **Live Presentation** with us for this project:\n",
    "\n",
    "- Firstly, demonstrate the **non-object-oriented version** of the **Robot Control** program containing the test functions on the Real Robot **TurtleBot3**.\n",
    "- Next, demonstrate the **object-oriented version** of the **Robot Control** program containing the robot algorithms on the Real Robot **TurtleBot3**.\n",
    "- Then, quickly explain how you implemented the **three** robot algorithms in the last part.\n",
    "- You may use **presentation slides** to explain the challenging parts of this project and how you solved them.\n",
    "- The presentation time is **20 minutes**. Make sure you are well-prepared to demonstrate all your work on time.\n",
    "\n",
    "**All the best for your Live Presentation!**"
   ]
  },
  {
   "cell_type": "markdown",
   "metadata": {},
   "source": [
    "<div class=\"separator-primary\" style=\"height:1.6em;width:100%;background:GoldenRod\">\n",
    "  <p class=\"separatortitle\" style=\"text-align:center;color:Black\"><b>- End of Presentation Guide -</b></p>\n",
    "</div>"
   ]
  },
  {
   "cell_type": "markdown",
   "metadata": {},
   "source": [
    "<div class=\"section\" style=\"height:1.8em;background:WhiteSmoke\">\n",
    "  <h2 class=\"section-title\" style=\"text-align:center\">\n",
    "    <span class=\"section-title-primary\" style=\"text-align:center;color:RoyalBlue\">Appendix</span>\n",
    "    &nbsp;&nbsp;&nbsp;\n",
    "    <span class=\"section-title-secondary\" style=\"text-align:center;color:Black\">How to Connect to the Real Robot</span>\n",
    "  </h2>\n",
    "</div>"
   ]
  },
  {
   "cell_type": "markdown",
   "metadata": {},
   "source": [
    "Once you know the basics of the operation with a simulated version, it's time to practice what you've learned with a **TurtleBot3** robot.\n",
    "\n",
    "To make a booking, follow these simple steps:"
   ]
  },
  {
   "cell_type": "markdown",
   "metadata": {},
   "source": [
    "<div class=\"section\" style=\"height:1.8em;background:WhiteSmoke\">\n",
    "  <h2 class=\"section-title\" style=\"text-align:center\">\n",
    "    <span class=\"section-title-primary\" style=\"text-align:center;color:RoyalBlue\">Step 1</span>\n",
    "    &nbsp;&nbsp;&nbsp;\n",
    "    <span class=\"section-title-secondary\" style=\"text-align:center;color:Black\">Book a Session</span>\n",
    "  </h2>\n",
    "</div>"
   ]
  },
  {
   "cell_type": "markdown",
   "metadata": {},
   "source": [
    "From **The Construct**'s main dashboard, book a session by clicking on the icon seen below:"
   ]
  },
  {
   "cell_type": "markdown",
   "metadata": {},
   "source": [
    "<center><img src=\"images/reallab2.png\" width=\"250\"/></center>"
   ]
  },
  {
   "cell_type": "markdown",
   "metadata": {},
   "source": [
    "A booking page will appear, where you can make a new booking."
   ]
  },
  {
   "cell_type": "markdown",
   "metadata": {},
   "source": [
    "<center><img src=\"images/bookings.png\" width=\"750\"/></center>"
   ]
  },
  {
   "cell_type": "markdown",
   "metadata": {},
   "source": [
    "You can either click on ***`Book a robot`*** on the bottom and then select the **Turtlebot**, or just click on ***`Book now`*** where the image of the **Turtlebot** is and select the date and time for your reservation:"
   ]
  },
  {
   "cell_type": "markdown",
   "metadata": {},
   "source": [
    "<center><img src=\"images/reservet3.png\" width=\"750\"/></center>"
   ]
  },
  {
   "cell_type": "markdown",
   "metadata": {},
   "source": [
    "Only the **available dates and times** are shown in green. They come in **25-minute blocks**.\n",
    "\n",
    "There is also a limitation on the number of bookings per week a user can make.\n",
    "\n",
    "Your number of available bookings depends on your license and subscription."
   ]
  },
  {
   "cell_type": "markdown",
   "metadata": {},
   "source": [
    "<center><img src=\"images/confirm.png\" width=\"750\"/></center>"
   ]
  },
  {
   "cell_type": "markdown",
   "metadata": {},
   "source": [
    "At any point in time you can check for bookings you have:"
   ]
  },
  {
   "cell_type": "markdown",
   "metadata": {},
   "source": [
    "<center><img src=\"images/bookasession.png\" width=\"500\"/></center>"
   ]
  },
  {
   "cell_type": "markdown",
   "metadata": {},
   "source": [
    "<div class=\"section\" style=\"height:1.8em;background:WhiteSmoke\">\n",
    "  <h2 class=\"section-title\" style=\"text-align:center\">\n",
    "    <span class=\"section-title-primary\" style=\"text-align:center;color:RoyalBlue\">Step 2</span>\n",
    "    &nbsp;&nbsp;&nbsp;\n",
    "    <span class=\"section-title-secondary\" style=\"text-align:center;color:Black\">Open Project Rosject</span>\n",
    "  </h2>\n",
    "</div>"
   ]
  },
  {
   "cell_type": "markdown",
   "metadata": {},
   "source": [
    "Before the booked session starts, open your rosject. You will see the robot icon at the bottom bar has a **yellow** dot. It means that your time to connect to the robot will start soon. If you click on it you will see a countdown to your session start.\n",
    "\n",
    "<center><img src=\"images/icon_realrobotlab_comingup.png\" width=\"50\"/></center>"
   ]
  },
  {
   "cell_type": "markdown",
   "metadata": {},
   "source": [
    "<center><img src=\"images/remaining.png\" width=\"500\"/></center>"
   ]
  },
  {
   "cell_type": "markdown",
   "metadata": {},
   "source": [
    "The **yellow** dot will turn **red** when your booked session has started.\n",
    "\n",
    "<center><img src=\"images/icon_realrobotlab_disconnected.png\" width=\"50\"/></center>"
   ]
  },
  {
   "cell_type": "markdown",
   "metadata": {},
   "source": [
    "<div class=\"section\" style=\"height:1.8em;background:WhiteSmoke\">\n",
    "  <h2 class=\"section-title\" style=\"text-align:center\">\n",
    "    <span class=\"section-title-primary\" style=\"text-align:center;color:RoyalBlue\">Step 3</span>\n",
    "    &nbsp;&nbsp;&nbsp;\n",
    "    <span class=\"section-title-secondary\" style=\"text-align:center;color:Black\">Turn ON the Robot Connection</span>\n",
    "  </h2>\n",
    "</div>"
   ]
  },
  {
   "cell_type": "markdown",
   "metadata": {},
   "source": [
    "Once you are inside the rosject and your real robot session has started, click on the robot icon on the bottom bar. A popup with a toggle for **turning on the connection** will appear.\n",
    "\n",
    "**WARNING: Nothing will appear unless you have a booking. So if you didn't make a booking in the dashboard, now is the time to do it.**\n",
    "\n",
    "Now you just have to click on the toggle to connect the desktop environment to the remote lab. This will start the connection process, which takes about 1 minute.\n",
    "\n",
    "Once the connection process is finished, the **red dot will change to green** if successfully connected. Now, **any terminal you open will show the topics and services of the real robot**.\n",
    "\n",
    "<center><img src=\"images/icon_realrobotlab_connected.png\" width=\"50\"/></center>\n",
    "\n",
    "Once connected, you should see the live camera streams from the real robot lab. In case it does not show up, you can press the **Real Robot Lab Stream** button on the bottom bar.\n",
    "\n",
    "<center><img src=\"images/icon_rrl_stream.png\" width=\"50\"/></center>\n",
    "\n",
    "Move the joystick around to confirm you are connected to the robot:"
   ]
  },
  {
   "cell_type": "markdown",
   "metadata": {},
   "source": [
    "<center><img src=\"animations/realrobotlab.gif\" width=\"750\"/></center>"
   ]
  },
  {
   "cell_type": "markdown",
   "metadata": {},
   "source": [
    "You can perform the following command, generating a list of topics similar to the list below. The first time you issue a **ROS2** command, it could take an extra 30 seconds to appear:"
   ]
  },
  {
   "cell_type": "markdown",
   "metadata": {},
   "source": [
    "<div class=\"execute\" style=\"width:14.0em;height:1.5em;border-radius:0.8em;background:Silver\">\n",
    "  <p class=\"executetext\" style=\"text-align:center;color:Black\">\n",
    "    <i class=\"fa fa-terminal\" style=\"font-size:1.5em\"></i>\n",
    "    &nbsp;\n",
    "    <b>Execute in Terminal</b>\n",
    "  </p>\n",
    "</div>"
   ]
  },
  {
   "cell_type": "code",
   "execution_count": null,
   "metadata": {},
   "outputs": [],
   "source": [
    "ros2 topic list"
   ]
  },
  {
   "cell_type": "markdown",
   "metadata": {},
   "source": [
    "You should get an output similar (may not be exactly same) to what is shown below:\n",
    "\n",
    "<center><img src=\"images/realrobot_topic_list.png\" width=\"750\"/></center>"
   ]
  },
  {
   "cell_type": "markdown",
   "metadata": {},
   "source": [
    "You are now connected to the robot! Try moving the robot around to visualize all the sensor data in **RViz**."
   ]
  },
  {
   "cell_type": "markdown",
   "metadata": {},
   "source": [
    "## Ready for your programs!\n",
    "\n",
    "If you have reached this point, it means that you have a proper connection with the remote real robot lab. **Now you can launch the programs of your project and see the results on the real robot!**"
   ]
  },
  {
   "cell_type": "markdown",
   "metadata": {},
   "source": [
    "<div class=\"section\" style=\"height:1.8em;background:WhiteSmoke\">\n",
    "  <h2 class=\"section-title\" style=\"text-align:center\">\n",
    "    <span class=\"section-title-primary\" style=\"text-align:center;color:RoyalBlue\">Appendix</span>\n",
    "    &nbsp;&nbsp;&nbsp;\n",
    "    <span class=\"section-title-secondary\" style=\"text-align:center;color:Black\">Present your Project on YouTube</span>\n",
    "  </h2>\n",
    "</div>"
   ]
  },
  {
   "cell_type": "markdown",
   "metadata": {},
   "source": [
    "An important part of your learning is to teach others what you have learned.\n",
    "\n",
    "To get the most out of your learning, you should present your project.\n",
    "\n",
    "If you're ready to take this brave step, then contact **The Construct** at info@theconstructsim.com and request a presentation. We can agree on a date and time.\n",
    "\n",
    "In the presentation, **you will be asked to do the following**:\n",
    "\n",
    "1. Prepare your presentation. Explain your project in 20 minutes: How did you solve your project, and how does it work?\n",
    "2. On the agreed day, have a camera and mic ready. This is compulsory!\n",
    "3. **The Construct** will contact you on that day and prepare the whole broadcast. We handle the technical details. You only need to be ready to present your project.\n",
    "\n",
    "The event will be broadcasted on YouTube, so anybody around the world can attend and watch your presentation!\n",
    "\n",
    "**Without successfully completing the presentation, you won't be able to earn the course certificate.**\n",
    "\n",
    "<center><img src=\"images/python_basics_certificate.png\" width=\"750\"/></center>"
   ]
  },
  {
   "cell_type": "markdown",
   "metadata": {},
   "source": [
    "<div class=\"section\" style=\"height:1.8em;background:WhiteSmoke\">\n",
    "  <h2 class=\"section-title\" style=\"text-align:center\">\n",
    "    <span class=\"section-title-primary\" style=\"text-align:center;color:RoyalBlue\">Appendix</span>\n",
    "    &nbsp;&nbsp;&nbsp;\n",
    "    <span class=\"section-title-secondary\" style=\"text-align:center;color:Black\">Share your Project on Social Network</span>\n",
    "  </h2>\n",
    "</div>"
   ]
  },
  {
   "cell_type": "markdown",
   "metadata": {},
   "source": [
    "The rosject that you created is a demonstration of your skill and value as a **ROS Developer**.\n",
    "\n",
    "You can share your rosject on any website to show the **ROS** projects you have worked on. Examples of your capability can encourage potential employers to contact you."
   ]
  },
  {
   "cell_type": "markdown",
   "metadata": {},
   "source": [
    "To share your rosject, follow the steps below:\n",
    "- Go to your list of rosjects, on the ***My Rosjects*** page.\n",
    "- Click on your rosject ***Share*** button to get the share link.\n",
    "\n",
    "<center><img src=\"images/python_basics_share_rosject.png\" width=\"500\"/></center>\n",
    "\n",
    "- Publish the link anywhere. Remember to use the ***Permanent link***.\n",
    "\n",
    "<center><img src=\"images/rosject_sharelink.png\" width=\"750\"/></center>"
   ]
  },
  {
   "cell_type": "markdown",
   "metadata": {},
   "source": [
    "<div class=\"separator-primary\" style=\"height:1.6em;width:100%;background:DarkGray\">\n",
    "  <p class=\"separatortitle\" style=\"text-align:center;color:Black\"><b>- End of Notebook -</b></p>\n",
    "</div>"
   ]
  }
 ],
 "metadata": {
  "kernelspec": {
   "display_name": "Python 2",
   "language": "python",
   "name": "python2"
  },
  "language_info": {
   "codemirror_mode": {
    "name": "ipython",
    "version": 2
   },
   "file_extension": ".py",
   "mimetype": "text/x-python",
   "name": "python",
   "nbconvert_exporter": "python",
   "pygments_lexer": "ipython2",
   "version": "2.7.16"
  }
 },
 "nbformat": 4,
 "nbformat_minor": 5
}
